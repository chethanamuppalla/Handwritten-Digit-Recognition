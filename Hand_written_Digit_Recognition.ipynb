{
  "nbformat": 4,
  "nbformat_minor": 0,
  "metadata": {
    "colab": {
      "name": "Hand written Digit Recognition.ipynb",
      "provenance": [],
      "collapsed_sections": [],
      "include_colab_link": true
    },
    "kernelspec": {
      "name": "python3",
      "display_name": "Python 3"
    }
  },
  "cells": [
    {
      "cell_type": "markdown",
      "metadata": {
        "id": "view-in-github",
        "colab_type": "text"
      },
      "source": [
        "<a href=\"https://colab.research.google.com/github/chethanamuppalla/Handwritten-Digit-Recognition/blob/main/Hand_written_Digit_Recognition.ipynb\" target=\"_parent\"><img src=\"https://colab.research.google.com/assets/colab-badge.svg\" alt=\"Open In Colab\"/></a>"
      ]
    },
    {
      "cell_type": "code",
      "metadata": {
        "id": "_aKLyyrsmILO"
      },
      "source": [
        "import tensorflow.keras as tf\n",
        "import matplotlib.pyplot as plt\n",
        "import numpy as np"
      ],
      "execution_count": 1,
      "outputs": []
    },
    {
      "cell_type": "code",
      "metadata": {
        "id": "lGuI_eDUm-zI"
      },
      "source": [
        "### Import dataset\n",
        "\n",
        "mnist=tf.datasets.mnist"
      ],
      "execution_count": null,
      "outputs": []
    },
    {
      "cell_type": "code",
      "metadata": {
        "id": "p8gNcBBenT_A",
        "colab": {
          "base_uri": "https://localhost:8080/",
          "height": 54
        },
        "outputId": "e6534ab4-2285-43dc-c481-bfc27e498f2c"
      },
      "source": [
        "(xtrain,ytrain),(xtest,ytest)=mnist.load_data()"
      ],
      "execution_count": null,
      "outputs": [
        {
          "output_type": "stream",
          "text": [
            "Downloading data from https://storage.googleapis.com/tensorflow/tf-keras-datasets/mnist.npz\n",
            "11493376/11490434 [==============================] - 0s 0us/step\n"
          ],
          "name": "stdout"
        }
      ]
    },
    {
      "cell_type": "code",
      "metadata": {
        "id": "5X95aqD1n_Pa",
        "colab": {
          "base_uri": "https://localhost:8080/",
          "height": 35
        },
        "outputId": "50bb01bd-eb22-4a11-83c4-247d7f5d0f45"
      },
      "source": [
        "xtrain.shape"
      ],
      "execution_count": null,
      "outputs": [
        {
          "output_type": "execute_result",
          "data": {
            "text/plain": [
              "(60000, 28, 28)"
            ]
          },
          "metadata": {
            "tags": []
          },
          "execution_count": 4
        }
      ]
    },
    {
      "cell_type": "code",
      "metadata": {
        "id": "CeO-SYwxoEJZ",
        "colab": {
          "base_uri": "https://localhost:8080/",
          "height": 35
        },
        "outputId": "4ca9721b-6bb4-47db-bea4-037cc86f7656"
      },
      "source": [
        "ytrain.shape"
      ],
      "execution_count": null,
      "outputs": [
        {
          "output_type": "execute_result",
          "data": {
            "text/plain": [
              "(60000,)"
            ]
          },
          "metadata": {
            "tags": []
          },
          "execution_count": 5
        }
      ]
    },
    {
      "cell_type": "code",
      "metadata": {
        "id": "Ktp-Aj7aoGvU",
        "colab": {
          "base_uri": "https://localhost:8080/",
          "height": 283
        },
        "outputId": "34c9c786-e17d-4858-c170-e591705a2750"
      },
      "source": [
        "plt.imshow(xtrain[1],cmap='gray')"
      ],
      "execution_count": null,
      "outputs": [
        {
          "output_type": "execute_result",
          "data": {
            "text/plain": [
              "<matplotlib.image.AxesImage at 0x7fc4c0547dd8>"
            ]
          },
          "metadata": {
            "tags": []
          },
          "execution_count": 10
        },
        {
          "output_type": "display_data",
          "data": {
            "image/png": "[encoded data removed]",
            "text/plain": [
              "<Figure size 432x288 with 1 Axes>"
            ]
          },
          "metadata": {
            "tags": [],
            "needs_background": "light"
          }
        }
      ]
    },
    {
      "cell_type": "code",
      "metadata": {
        "id": "jr7oK6nVoOGq",
        "colab": {
          "base_uri": "https://localhost:8080/",
          "height": 35
        },
        "outputId": "0b97f266-f49c-4d57-be7e-9c7a08e39dab"
      },
      "source": [
        "ytrain[1]"
      ],
      "execution_count": null,
      "outputs": [
        {
          "output_type": "execute_result",
          "data": {
            "text/plain": [
              "0"
            ]
          },
          "metadata": {
            "tags": []
          },
          "execution_count": 11
        }
      ]
    },
    {
      "cell_type": "code",
      "metadata": {
        "id": "TEHbxNlypJle"
      },
      "source": [
        "###Create a neural network\n",
        "### create the model\n",
        "model=tf.models.Sequential()\n",
        "###adding layers\n",
        "model.add(tf.layers.Flatten()) ## input layer\n",
        "model.add(tf.layers.Dense(784,activation='relu')) ## 28*28 = 784  ### hidden layer\n",
        "model.add(tf.layers.Dense(10,activation='softmax'))"
      ],
      "execution_count": null,
      "outputs": []
    },
    {
      "cell_type": "code",
      "metadata": {
        "id": "J0IpDodxqtmm"
      },
      "source": [
        "##Compile the model\n",
        "model.compile(loss='sparse_categorical_crossentropy',optimizer='adam',metrics=['accuracy'])"
      ],
      "execution_count": null,
      "outputs": []
    },
    {
      "cell_type": "code",
      "metadata": {
        "id": "6Dp9tHj0rG6C"
      },
      "source": [
        "## Scale the data\n",
        "xtrain=xtrain/255\n",
        "xtest=xtest/255"
      ],
      "execution_count": null,
      "outputs": []
    },
    {
      "cell_type": "code",
      "metadata": {
        "id": "Tmwv12MDrn3n",
        "colab": {
          "base_uri": "https://localhost:8080/",
          "height": 581
        },
        "outputId": "1b6760ae-4c7b-4d6a-b439-d642a4aa4796"
      },
      "source": [
        "###Training the Model\n",
        "model.fit(xtrain,ytrain,epochs=15)"
      ],
      "execution_count": null,
      "outputs": [
        {
          "output_type": "stream",
          "text": [
            "Epoch 1/15\n",
            "1875/1875 [==============================] - 9s 5ms/step - loss: 0.0182 - accuracy: 0.9939\n",
            "Epoch 2/15\n",
            "1875/1875 [==============================] - 9s 5ms/step - loss: 0.0139 - accuracy: 0.9956\n",
            "Epoch 3/15\n",
            "1875/1875 [==============================] - 9s 5ms/step - loss: 0.0133 - accuracy: 0.9962\n",
            "Epoch 4/15\n",
            "1875/1875 [==============================] - 9s 5ms/step - loss: 0.0091 - accuracy: 0.9970\n",
            "Epoch 5/15\n",
            "1875/1875 [==============================] - 10s 5ms/step - loss: 0.0102 - accuracy: 0.9965\n",
            "Epoch 6/15\n",
            "1875/1875 [==============================] - 10s 5ms/step - loss: 0.0102 - accuracy: 0.9967\n",
            "Epoch 7/15\n",
            "1875/1875 [==============================] - 10s 5ms/step - loss: 0.0095 - accuracy: 0.9969\n",
            "Epoch 8/15\n",
            "1875/1875 [==============================] - 11s 6ms/step - loss: 0.0099 - accuracy: 0.9970\n",
            "Epoch 9/15\n",
            "1875/1875 [==============================] - 9s 5ms/step - loss: 0.0065 - accuracy: 0.9979\n",
            "Epoch 10/15\n",
            "1875/1875 [==============================] - 9s 5ms/step - loss: 0.0071 - accuracy: 0.9977\n",
            "Epoch 11/15\n",
            "1875/1875 [==============================] - 9s 5ms/step - loss: 0.0076 - accuracy: 0.9975\n",
            "Epoch 12/15\n",
            "1875/1875 [==============================] - 9s 5ms/step - loss: 0.0066 - accuracy: 0.9977\n",
            "Epoch 13/15\n",
            "1875/1875 [==============================] - 9s 5ms/step - loss: 0.0065 - accuracy: 0.9981\n",
            "Epoch 14/15\n",
            "1875/1875 [==============================] - 9s 5ms/step - loss: 0.0073 - accuracy: 0.9979\n",
            "Epoch 15/15\n",
            "1875/1875 [==============================] - 9s 5ms/step - loss: 0.0083 - accuracy: 0.9976\n"
          ],
          "name": "stdout"
        },
        {
          "output_type": "execute_result",
          "data": {
            "text/plain": [
              "<tensorflow.python.keras.callbacks.History at 0x7fc4b5dd2860>"
            ]
          },
          "metadata": {
            "tags": []
          },
          "execution_count": 18
        }
      ]
    },
    {
      "cell_type": "code",
      "metadata": {
        "id": "NZzRW3q6r1ip"
      },
      "source": [
        "ypred=model.predict(xtest)"
      ],
      "execution_count": null,
      "outputs": []
    },
    {
      "cell_type": "code",
      "metadata": {
        "id": "w4QkcoresqdY",
        "colab": {
          "base_uri": "https://localhost:8080/",
          "height": 35
        },
        "outputId": "bb23891a-e08f-4665-dd20-50649b753b9d"
      },
      "source": [
        "ytest[200]"
      ],
      "execution_count": null,
      "outputs": [
        {
          "output_type": "execute_result",
          "data": {
            "text/plain": [
              "3"
            ]
          },
          "metadata": {
            "tags": []
          },
          "execution_count": 23
        }
      ]
    },
    {
      "cell_type": "code",
      "metadata": {
        "id": "CAy2Q-CrsyBm",
        "colab": {
          "base_uri": "https://localhost:8080/",
          "height": 72
        },
        "outputId": "97f851f1-608c-47bf-b161-e36ef942de4f"
      },
      "source": [
        "ypred[200]"
      ],
      "execution_count": null,
      "outputs": [
        {
          "output_type": "execute_result",
          "data": {
            "text/plain": [
              "array([3.4219290e-15, 1.3093531e-09, 2.9058124e-06, 9.9998736e-01,\n",
              "       6.6460643e-11, 1.9671800e-06, 2.4986589e-17, 2.2214444e-11,\n",
              "       7.7558479e-06, 3.1886860e-09], dtype=float32)"
            ]
          },
          "metadata": {
            "tags": []
          },
          "execution_count": 24
        }
      ]
    },
    {
      "cell_type": "code",
      "metadata": {
        "id": "SW2de7Yos2gb",
        "colab": {
          "base_uri": "https://localhost:8080/",
          "height": 35
        },
        "outputId": "6cb368d3-553f-4894-b935-34a1f02857d5"
      },
      "source": [
        "np.argmax(ypred[200])"
      ],
      "execution_count": null,
      "outputs": [
        {
          "output_type": "execute_result",
          "data": {
            "text/plain": [
              "3"
            ]
          },
          "metadata": {
            "tags": []
          },
          "execution_count": 25
        }
      ]
    },
    {
      "cell_type": "code",
      "metadata": {
        "id": "VOggjM0vtTAB",
        "colab": {
          "base_uri": "https://localhost:8080/",
          "height": 54
        },
        "outputId": "c8a6c519-c3a4-44d6-bfce-c0b97f812374"
      },
      "source": [
        "model.evaluate(xtest,ytest)"
      ],
      "execution_count": null,
      "outputs": [
        {
          "output_type": "stream",
          "text": [
            "313/313 [==============================] - 1s 2ms/step - loss: 0.1437 - accuracy: 0.9813\n"
          ],
          "name": "stdout"
        },
        {
          "output_type": "execute_result",
          "data": {
            "text/plain": [
              "[0.14370717108249664, 0.9812999963760376]"
            ]
          },
          "metadata": {
            "tags": []
          },
          "execution_count": 26
        }
      ]
    },
    {
      "cell_type": "code",
      "metadata": {
        "id": "qhfkXQ3Ntfg7",
        "colab": {
          "base_uri": "https://localhost:8080/",
          "height": 265
        },
        "outputId": "bb0d196e-e2c0-457e-fb9d-793da111fcf2"
      },
      "source": [
        "import cv2\n",
        "img=cv2.imread(\"predict.png\",0)\n",
        "img=cv2.bitwise_not(img)\n",
        "img=cv2.resize(img,(28,28))\n",
        "img=img/255\n",
        "plt.imshow(img,cmap='gray')\n",
        "plt.show()"
      ],
      "execution_count": null,
      "outputs": [
        {
          "output_type": "display_data",
          "data": {
            "image/png": "[encoded data removed]",
            "text/plain": [
              "<Figure size 432x288 with 1 Axes>"
            ]
          },
          "metadata": {
            "tags": [],
            "needs_background": "light"
          }
        }
      ]
    },
    {
      "cell_type": "code",
      "metadata": {
        "id": "xmpHrUQIu3sK",
        "colab": {
          "base_uri": "https://localhost:8080/",
          "height": 72
        },
        "outputId": "63e1786f-1a56-41b6-c2de-8c8a93ac1091"
      },
      "source": [
        "model.predict(np.array([[img]]))"
      ],
      "execution_count": null,
      "outputs": [
        {
          "output_type": "execute_result",
          "data": {
            "text/plain": [
              "array([[2.1911316e-04, 1.1863540e-03, 8.3836091e-01, 1.5617205e-01,\n",
              "        1.4687781e-08, 1.1428775e-05, 1.5484328e-08, 1.1595169e-08,\n",
              "        4.0500797e-03, 1.0750074e-08]], dtype=float32)"
            ]
          },
          "metadata": {
            "tags": []
          },
          "execution_count": 35
        }
      ]
    },
    {
      "cell_type": "code",
      "metadata": {
        "id": "ussHvfsDvX4U"
      },
      "source": [
        ""
      ],
      "execution_count": null,
      "outputs": []
    }
  ]
}